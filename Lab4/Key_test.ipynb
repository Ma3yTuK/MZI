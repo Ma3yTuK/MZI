{
 "cells": [
  {
   "cell_type": "code",
   "execution_count": 6,
   "metadata": {},
   "outputs": [
    {
     "name": "stdout",
     "output_type": "stream",
     "text": [
      "2 0\n",
      "4 1\n"
     ]
    }
   ],
   "source": [
    "b = 2\n",
    "for a in range(2048):\n",
    "    for c in range(b):\n",
    "        if 2 ** (a - b) == a ** c:\n",
    "            print(a, c)"
   ]
  },
  {
   "cell_type": "code",
   "execution_count": 7,
   "metadata": {},
   "outputs": [
    {
     "name": "stdout",
     "output_type": "stream",
     "text": [
      "256 240 2\n",
      "256 232 3\n",
      "256 224 4\n",
      "256 216 5\n",
      "256 208 6\n",
      "256 200 7\n",
      "256 192 8\n",
      "256 184 9\n",
      "256 176 10\n",
      "256 168 11\n",
      "256 160 12\n",
      "256 152 13\n",
      "256 144 14\n",
      "256 136 15\n",
      "256 128 16\n",
      "256 120 17\n",
      "256 112 18\n",
      "256 104 19\n",
      "256 96 20\n",
      "256 88 21\n",
      "256 80 22\n",
      "256 72 23\n",
      "256 64 24\n",
      "256 56 25\n",
      "256 48 26\n",
      "256 40 27\n",
      "256 32 28\n",
      "256 24 29\n",
      "256 16 30\n",
      "256 8 31\n",
      "256 0 32\n"
     ]
    },
    {
     "ename": "KeyboardInterrupt",
     "evalue": "",
     "output_type": "error",
     "traceback": [
      "\u001b[0;31m---------------------------------------------------------------------------\u001b[0m",
      "\u001b[0;31mKeyboardInterrupt\u001b[0m                         Traceback (most recent call last)",
      "Cell \u001b[0;32mIn[7], line 5\u001b[0m\n\u001b[1;32m      3\u001b[0m \u001b[38;5;28;01mfor\u001b[39;00m b \u001b[38;5;129;01min\u001b[39;00m \u001b[38;5;28mrange\u001b[39m(\u001b[38;5;241m2048\u001b[39m):\n\u001b[1;32m      4\u001b[0m     m \u001b[38;5;241m=\u001b[39m (a \u001b[38;5;241m-\u001b[39m b) \u001b[38;5;241m/\u001b[39m c\n\u001b[0;32m----> 5\u001b[0m     \u001b[38;5;28;01mif\u001b[39;00m m \u001b[38;5;241m==\u001b[39m \u001b[38;5;241m8\u001b[39m \u001b[38;5;129;01mand\u001b[39;00m \u001b[38;5;241m2\u001b[39m \u001b[38;5;241m*\u001b[39m\u001b[38;5;241m*\u001b[39m m \u001b[38;5;241m==\u001b[39m a:\n\u001b[1;32m      6\u001b[0m         \u001b[38;5;28mprint\u001b[39m(a, b, c)\n",
      "\u001b[0;31mKeyboardInterrupt\u001b[0m: "
     ]
    }
   ],
   "source": [
    "\n",
    "for c in range(2, 256):\n",
    "    for a in range(c, 2048):\n",
    "        for b in range(2048):\n",
    "            m = (a - b) / c\n",
    "            if m == 8 and 2 ** m == a:\n",
    "                print(a, b, c)"
   ]
  },
  {
   "cell_type": "code",
   "execution_count": 16,
   "metadata": {},
   "outputs": [
    {
     "data": {
      "text/plain": [
       "151"
      ]
     },
     "execution_count": 16,
     "metadata": {},
     "output_type": "execute_result"
    }
   ],
   "source": [
    "9 * 16 + 123 // 16"
   ]
  },
  {
   "cell_type": "code",
   "execution_count": null,
   "metadata": {},
   "outputs": [],
   "source": []
  }
 ],
 "metadata": {
  "kernelspec": {
   "display_name": "Python 3",
   "language": "python",
   "name": "python3"
  },
  "language_info": {
   "codemirror_mode": {
    "name": "ipython",
    "version": 3
   },
   "file_extension": ".py",
   "mimetype": "text/x-python",
   "name": "python",
   "nbconvert_exporter": "python",
   "pygments_lexer": "ipython3",
   "version": "3.12.7"
  }
 },
 "nbformat": 4,
 "nbformat_minor": 2
}
